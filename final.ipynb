{
 "cells": [
  {
   "cell_type": "code",
   "execution_count": 1,
   "metadata": {
    "collapsed": true
   },
   "outputs": [],
   "source": [
    "from urllib import request\n",
    "import json\n",
    "import numpy as np\n",
    "import pandas as pd "
   ]
  },
  {
   "cell_type": "code",
   "execution_count": 2,
   "metadata": {
    "collapsed": true
   },
   "outputs": [],
   "source": [
    "def get_list(keyword=\"country\"):\n",
    "    response = request.urlopen(\"https://nomadlist.com/api/v2/list/{}\".format(keyword))\n",
    "    resp_string = response.read().decode(\"utf-8\")\n",
    "    resp_dict = json.loads(resp_string)\n",
    "    return resp_dict['result']"
   ]
  },
  {
   "cell_type": "code",
   "execution_count": 3,
   "metadata": {
    "collapsed": false
   },
   "outputs": [],
   "source": [
    "place_list = get_list('places')"
   ]
  },
  {
   "cell_type": "code",
   "execution_count": 4,
   "metadata": {
    "collapsed": false
   },
   "outputs": [],
   "source": [
    "def transform_cost_dict(dict_cost):\n",
    "    for k,v in dict_cost.items():\n",
    "        dict_cost[k] = v['USD']\n",
    "    return dict_cost \n",
    "\n",
    "places = []\n",
    "for place in place_list:\n",
    "    new_dict = place['scores']\n",
    "    x = transform_cost_dict(place['cost'])\n",
    "    new_dict.update(x)\n",
    "    new_dict[\"city_name\"] = place[\"media\"][\"image\"][\"500\"].split(\"/\")[-1].split(\"500px\")[0].strip(\"-\")\n",
    "    places.append(new_dict)"
   ]
  },
  {
   "cell_type": "code",
   "execution_count": 5,
   "metadata": {
    "collapsed": true
   },
   "outputs": [],
   "source": [
    "newdf = pd.DataFrame(places)"
   ]
  },
  {
   "cell_type": "code",
   "execution_count": 6,
   "metadata": {
    "collapsed": true
   },
   "outputs": [],
   "source": [
    "def get_corect_country(country, countries):\n",
    "    for c in countries:\n",
    "        if country in c:\n",
    "            return c"
   ]
  },
  {
   "cell_type": "code",
   "execution_count": 7,
   "metadata": {
    "collapsed": false
   },
   "outputs": [],
   "source": [
    "newdf['country'] = newdf['city_name'].apply(lambda x: x.split(\"-\")[-1])\n",
    "country_list = get_list(\"countries\")\n",
    "newdf['country_slug'] = newdf['country'].apply(lambda x: get_corect_country(x, country_list))\n",
    "newdf['country_name'] = newdf['country_slug'].apply(lambda x: x.replace('-', ' '))"
   ]
  },
  {
   "cell_type": "code",
   "execution_count": 8,
   "metadata": {
    "collapsed": false
   },
   "outputs": [
    {
     "data": {
      "text/html": [
       "<div>\n",
       "<table border=\"1\" class=\"dataframe\">\n",
       "  <thead>\n",
       "    <tr style=\"text-align: right;\">\n",
       "      <th></th>\n",
       "      <th>aircon</th>\n",
       "      <th>city_name</th>\n",
       "      <th>expat</th>\n",
       "      <th>female_friendly</th>\n",
       "      <th>fragile_states_index</th>\n",
       "      <th>free_wifi_available</th>\n",
       "      <th>freedom_score</th>\n",
       "      <th>friendly_to_foreigners</th>\n",
       "      <th>leisure</th>\n",
       "      <th>lgbt_friendly</th>\n",
       "      <th>...</th>\n",
       "      <th>nomad_score</th>\n",
       "      <th>peace_score</th>\n",
       "      <th>places_to_work</th>\n",
       "      <th>press_freedom_index</th>\n",
       "      <th>racism</th>\n",
       "      <th>safety</th>\n",
       "      <th>shortTerm</th>\n",
       "      <th>country</th>\n",
       "      <th>country_slug</th>\n",
       "      <th>country_name</th>\n",
       "    </tr>\n",
       "  </thead>\n",
       "  <tbody>\n",
       "    <tr>\n",
       "      <th>0</th>\n",
       "      <td>0.6</td>\n",
       "      <td>chiang-mai-thailand</td>\n",
       "      <td>620</td>\n",
       "      <td>0.8</td>\n",
       "      <td>78.8</td>\n",
       "      <td>0.6</td>\n",
       "      <td>0.2</td>\n",
       "      <td>0.6</td>\n",
       "      <td>0.62</td>\n",
       "      <td>0.6</td>\n",
       "      <td>...</td>\n",
       "      <td>1.00</td>\n",
       "      <td>0.4</td>\n",
       "      <td>1.0</td>\n",
       "      <td>44.53</td>\n",
       "      <td>0.40</td>\n",
       "      <td>0.80</td>\n",
       "      <td>599</td>\n",
       "      <td>thailand</td>\n",
       "      <td>thailand</td>\n",
       "      <td>thailand</td>\n",
       "    </tr>\n",
       "    <tr>\n",
       "      <th>1</th>\n",
       "      <td>1.0</td>\n",
       "      <td>bangkok-thailand</td>\n",
       "      <td>968</td>\n",
       "      <td>0.8</td>\n",
       "      <td>78.8</td>\n",
       "      <td>1.0</td>\n",
       "      <td>0.2</td>\n",
       "      <td>1.0</td>\n",
       "      <td>0.82</td>\n",
       "      <td>0.8</td>\n",
       "      <td>...</td>\n",
       "      <td>0.96</td>\n",
       "      <td>0.4</td>\n",
       "      <td>1.0</td>\n",
       "      <td>44.53</td>\n",
       "      <td>0.42</td>\n",
       "      <td>0.77</td>\n",
       "      <td>1082</td>\n",
       "      <td>thailand</td>\n",
       "      <td>thailand</td>\n",
       "      <td>thailand</td>\n",
       "    </tr>\n",
       "    <tr>\n",
       "      <th>2</th>\n",
       "      <td>1.0</td>\n",
       "      <td>taipei-taiwan</td>\n",
       "      <td>1498</td>\n",
       "      <td>1.0</td>\n",
       "      <td>NaN</td>\n",
       "      <td>1.0</td>\n",
       "      <td>0.6</td>\n",
       "      <td>0.8</td>\n",
       "      <td>1.00</td>\n",
       "      <td>0.8</td>\n",
       "      <td>...</td>\n",
       "      <td>0.90</td>\n",
       "      <td>NaN</td>\n",
       "      <td>1.0</td>\n",
       "      <td>24.37</td>\n",
       "      <td>0.00</td>\n",
       "      <td>1.00</td>\n",
       "      <td>1401</td>\n",
       "      <td>taiwan</td>\n",
       "      <td>taiwan</td>\n",
       "      <td>taiwan</td>\n",
       "    </tr>\n",
       "    <tr>\n",
       "      <th>3</th>\n",
       "      <td>1.0</td>\n",
       "      <td>melbourne-australia</td>\n",
       "      <td>2703</td>\n",
       "      <td>1.0</td>\n",
       "      <td>22.5</td>\n",
       "      <td>0.2</td>\n",
       "      <td>0.8</td>\n",
       "      <td>0.8</td>\n",
       "      <td>0.80</td>\n",
       "      <td>0.8</td>\n",
       "      <td>...</td>\n",
       "      <td>0.89</td>\n",
       "      <td>1.0</td>\n",
       "      <td>1.0</td>\n",
       "      <td>17.84</td>\n",
       "      <td>0.80</td>\n",
       "      <td>0.82</td>\n",
       "      <td>2741</td>\n",
       "      <td>australia</td>\n",
       "      <td>australia</td>\n",
       "      <td>australia</td>\n",
       "    </tr>\n",
       "    <tr>\n",
       "      <th>4</th>\n",
       "      <td>0.6</td>\n",
       "      <td>canggu-bali-indonesia</td>\n",
       "      <td>1283</td>\n",
       "      <td>0.8</td>\n",
       "      <td>74.9</td>\n",
       "      <td>0.6</td>\n",
       "      <td>0.2</td>\n",
       "      <td>1.0</td>\n",
       "      <td>0.90</td>\n",
       "      <td>0.6</td>\n",
       "      <td>...</td>\n",
       "      <td>0.89</td>\n",
       "      <td>0.6</td>\n",
       "      <td>0.8</td>\n",
       "      <td>41.72</td>\n",
       "      <td>0.80</td>\n",
       "      <td>0.60</td>\n",
       "      <td>951</td>\n",
       "      <td>indonesia</td>\n",
       "      <td>indonesia</td>\n",
       "      <td>indonesia</td>\n",
       "    </tr>\n",
       "  </tbody>\n",
       "</table>\n",
       "<p>5 rows × 26 columns</p>\n",
       "</div>"
      ],
      "text/plain": [
       "   aircon              city_name  expat  female_friendly  \\\n",
       "0     0.6    chiang-mai-thailand    620              0.8   \n",
       "1     1.0       bangkok-thailand    968              0.8   \n",
       "2     1.0          taipei-taiwan   1498              1.0   \n",
       "3     1.0    melbourne-australia   2703              1.0   \n",
       "4     0.6  canggu-bali-indonesia   1283              0.8   \n",
       "\n",
       "   fragile_states_index  free_wifi_available  freedom_score  \\\n",
       "0                  78.8                  0.6            0.2   \n",
       "1                  78.8                  1.0            0.2   \n",
       "2                   NaN                  1.0            0.6   \n",
       "3                  22.5                  0.2            0.8   \n",
       "4                  74.9                  0.6            0.2   \n",
       "\n",
       "   friendly_to_foreigners  leisure  lgbt_friendly      ...       nomad_score  \\\n",
       "0                     0.6     0.62            0.6      ...              1.00   \n",
       "1                     1.0     0.82            0.8      ...              0.96   \n",
       "2                     0.8     1.00            0.8      ...              0.90   \n",
       "3                     0.8     0.80            0.8      ...              0.89   \n",
       "4                     1.0     0.90            0.6      ...              0.89   \n",
       "\n",
       "   peace_score  places_to_work  press_freedom_index  racism  safety  \\\n",
       "0          0.4             1.0                44.53    0.40    0.80   \n",
       "1          0.4             1.0                44.53    0.42    0.77   \n",
       "2          NaN             1.0                24.37    0.00    1.00   \n",
       "3          1.0             1.0                17.84    0.80    0.82   \n",
       "4          0.6             0.8                41.72    0.80    0.60   \n",
       "\n",
       "   shortTerm    country  country_slug  country_name  \n",
       "0        599   thailand      thailand      thailand  \n",
       "1       1082   thailand      thailand      thailand  \n",
       "2       1401     taiwan        taiwan        taiwan  \n",
       "3       2741  australia     australia     australia  \n",
       "4        951  indonesia     indonesia     indonesia  \n",
       "\n",
       "[5 rows x 26 columns]"
      ]
     },
     "execution_count": 8,
     "metadata": {},
     "output_type": "execute_result"
    }
   ],
   "source": [
    "newdf.head()"
   ]
  },
  {
   "cell_type": "code",
   "execution_count": 9,
   "metadata": {
    "collapsed": false
   },
   "outputs": [],
   "source": [
    "grouped = newdf.groupby(\"country_name\").mean()"
   ]
  },
  {
   "cell_type": "code",
   "execution_count": 10,
   "metadata": {
    "collapsed": false
   },
   "outputs": [
    {
     "data": {
      "text/plain": [
       "Index(['aircon', 'expat', 'female_friendly', 'fragile_states_index',\n",
       "       'free_wifi_available', 'freedom_score', 'friendly_to_foreigners',\n",
       "       'leisure', 'lgbt_friendly', 'life_score', 'local', 'longTerm',\n",
       "       'nightlife', 'nomad', 'nomadScore', 'nomad_score', 'peace_score',\n",
       "       'places_to_work', 'press_freedom_index', 'racism', 'safety',\n",
       "       'shortTerm'],\n",
       "      dtype='object')"
      ]
     },
     "execution_count": 10,
     "metadata": {},
     "output_type": "execute_result"
    }
   ],
   "source": [
    "grouped.columns"
   ]
  },
  {
   "cell_type": "code",
   "execution_count": 11,
   "metadata": {
    "collapsed": true
   },
   "outputs": [],
   "source": [
    "grouped.to_json('data.json')"
   ]
  },
  {
   "cell_type": "code",
   "execution_count": null,
   "metadata": {
    "collapsed": true
   },
   "outputs": [],
   "source": []
  }
 ],
 "metadata": {
  "kernelspec": {
   "display_name": "Python [conda root]",
   "language": "python",
   "name": "conda-root-py"
  },
  "language_info": {
   "codemirror_mode": {
    "name": "ipython",
    "version": 3
   },
   "file_extension": ".py",
   "mimetype": "text/x-python",
   "name": "python",
   "nbconvert_exporter": "python",
   "pygments_lexer": "ipython3",
   "version": "3.5.2"
  }
 },
 "nbformat": 4,
 "nbformat_minor": 2
}
