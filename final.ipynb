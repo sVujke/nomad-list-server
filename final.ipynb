{
 "cells": [
  {
   "cell_type": "code",
   "execution_count": 1,
   "metadata": {
    "collapsed": true
   },
   "outputs": [],
   "source": [
    "from urllib import request\n",
    "import json\n",
    "import numpy as np\n",
    "import pandas as pd "
   ]
  },
  {
   "cell_type": "code",
   "execution_count": 4,
   "metadata": {
    "collapsed": true
   },
   "outputs": [],
   "source": [
    "def get_list(keyword=\"country\"):\n",
    "    response = request.urlopen(\"https://nomadlist.com/api/v2/list/{}\".format(keyword))\n",
    "    resp_string = response.read().decode(\"utf-8\")\n",
    "    resp_dict = json.loads(resp_string)\n",
    "    return resp_dict['result']"
   ]
  },
  {
   "cell_type": "code",
   "execution_count": 5,
   "metadata": {
    "collapsed": false
   },
   "outputs": [
    {
     "ename": "KeyError",
     "evalue": "'result'",
     "output_type": "error",
     "traceback": [
      "\u001b[0;31m---------------------------------------------------------------------------\u001b[0m",
      "\u001b[0;31mKeyError\u001b[0m                                  Traceback (most recent call last)",
      "\u001b[0;32m<ipython-input-5-a602d4687e0d>\u001b[0m in \u001b[0;36m<module>\u001b[0;34m()\u001b[0m\n\u001b[0;32m----> 1\u001b[0;31m \u001b[0mplace_list\u001b[0m \u001b[1;33m=\u001b[0m \u001b[0mget_list\u001b[0m\u001b[1;33m(\u001b[0m\u001b[1;34m'places'\u001b[0m\u001b[1;33m)\u001b[0m\u001b[1;33m\u001b[0m\u001b[0m\n\u001b[0m",
      "\u001b[0;32m<ipython-input-4-bb74d1fe9be4>\u001b[0m in \u001b[0;36mget_list\u001b[0;34m(keyword)\u001b[0m\n\u001b[1;32m      3\u001b[0m     \u001b[0mresp_string\u001b[0m \u001b[1;33m=\u001b[0m \u001b[0mresponse\u001b[0m\u001b[1;33m.\u001b[0m\u001b[0mread\u001b[0m\u001b[1;33m(\u001b[0m\u001b[1;33m)\u001b[0m\u001b[1;33m.\u001b[0m\u001b[0mdecode\u001b[0m\u001b[1;33m(\u001b[0m\u001b[1;34m\"utf-8\"\u001b[0m\u001b[1;33m)\u001b[0m\u001b[1;33m\u001b[0m\u001b[0m\n\u001b[1;32m      4\u001b[0m     \u001b[0mresp_dict\u001b[0m \u001b[1;33m=\u001b[0m \u001b[0mjson\u001b[0m\u001b[1;33m.\u001b[0m\u001b[0mloads\u001b[0m\u001b[1;33m(\u001b[0m\u001b[0mresp_string\u001b[0m\u001b[1;33m)\u001b[0m\u001b[1;33m\u001b[0m\u001b[0m\n\u001b[0;32m----> 5\u001b[0;31m     \u001b[1;32mreturn\u001b[0m \u001b[0mresp_dict\u001b[0m\u001b[1;33m[\u001b[0m\u001b[1;34m'result'\u001b[0m\u001b[1;33m]\u001b[0m\u001b[1;33m\u001b[0m\u001b[0m\n\u001b[0m",
      "\u001b[0;31mKeyError\u001b[0m: 'result'"
     ]
    }
   ],
   "source": [
    "place_list = get_list('places')"
   ]
  },
  {
   "cell_type": "code",
   "execution_count": null,
   "metadata": {
    "collapsed": false
   },
   "outputs": [],
   "source": [
    "def transform_cost_dict(dict_cost):\n",
    "    for k,v in dict_cost.items():\n",
    "        dict_cost[k] = v['USD']\n",
    "    return dict_cost \n",
    "\n",
    "places = []\n",
    "for place in place_list:\n",
    "    new_dict = place['scores']\n",
    "    x = transform_cost_dict(place['cost'])\n",
    "    new_dict.update(x)\n",
    "    new_dict[\"city_name\"] = place[\"media\"][\"image\"][\"500\"].split(\"/\")[-1].split(\"500px\")[0].strip(\"-\")\n",
    "    places.append(new_dict)"
   ]
  },
  {
   "cell_type": "code",
   "execution_count": null,
   "metadata": {
    "collapsed": true
   },
   "outputs": [],
   "source": [
    "newdf = pd.DataFrame(places)"
   ]
  },
  {
   "cell_type": "code",
   "execution_count": null,
   "metadata": {
    "collapsed": true
   },
   "outputs": [],
   "source": [
    "def get_corect_country(country, countries):\n",
    "    for c in countries:\n",
    "        if country in c:\n",
    "            return c"
   ]
  },
  {
   "cell_type": "code",
   "execution_count": null,
   "metadata": {
    "collapsed": false
   },
   "outputs": [],
   "source": [
    "newdf['country'] = newdf['city_name'].apply(lambda x: x.split(\"-\")[-1])\n",
    "country_list = get_list(\"countries\")\n",
    "newdf['country_slug'] = newdf['country'].apply(lambda x: get_corect_country(x, country_list))\n",
    "newdf['country_name'] = newdf['country_slug'].apply(lambda x: x.replace('-', ' '))"
   ]
  },
  {
   "cell_type": "code",
   "execution_count": null,
   "metadata": {
    "collapsed": false
   },
   "outputs": [],
   "source": [
    "newdf.head()"
   ]
  },
  {
   "cell_type": "code",
   "execution_count": null,
   "metadata": {
    "collapsed": false
   },
   "outputs": [],
   "source": [
    "grouped = newdf.groupby(\"country_name\").mean()"
   ]
  },
  {
   "cell_type": "code",
   "execution_count": null,
   "metadata": {
    "collapsed": false
   },
   "outputs": [],
   "source": [
    "grouped.columns"
   ]
  },
  {
   "cell_type": "code",
   "execution_count": null,
   "metadata": {
    "collapsed": true
   },
   "outputs": [],
   "source": [
    "grouped.to_json('data.json')"
   ]
  },
  {
   "cell_type": "code",
   "execution_count": null,
   "metadata": {
    "collapsed": false
   },
   "outputs": [],
   "source": [
    "grouped.sample(10)"
   ]
  },
  {
   "cell_type": "code",
   "execution_count": null,
   "metadata": {
    "collapsed": true
   },
   "outputs": [],
   "source": [
    "df = pd.read_csv('codes.csv')"
   ]
  },
  {
   "cell_type": "code",
   "execution_count": null,
   "metadata": {
    "collapsed": false
   },
   "outputs": [],
   "source": [
    "df = df[['Content', 'Value 3']]\n",
    "df['country'] = df['Content'].apply(lambda x: x.lower())\n",
    "df['code'] = df['Value 3']"
   ]
  },
  {
   "cell_type": "code",
   "execution_count": null,
   "metadata": {
    "collapsed": false
   },
   "outputs": [],
   "source": [
    "df = df.set_index('country')"
   ]
  },
  {
   "cell_type": "code",
   "execution_count": null,
   "metadata": {
    "collapsed": false
   },
   "outputs": [],
   "source": [
    "g1 = grouped.join(df['code'])"
   ]
  },
  {
   "cell_type": "code",
   "execution_count": null,
   "metadata": {
    "collapsed": false
   },
   "outputs": [],
   "source": [
    "g1['code'][g1.code.isnull()].keys()"
   ]
  },
  {
   "cell_type": "code",
   "execution_count": null,
   "metadata": {
    "collapsed": false
   },
   "outputs": [],
   "source": [
    "grouped.shape"
   ]
  },
  {
   "cell_type": "code",
   "execution_count": null,
   "metadata": {
    "collapsed": true
   },
   "outputs": [],
   "source": [
    "g1.set_value('iran', 'code', 'IRN')\n",
    "g1.set_value('bosnia herzegovina', 'code', 'BIH')\n",
    "g1.set_value('congo', 'code', 'COD')\n",
    "g1.set_value('hong kong', 'code', 'HKG')\n",
    "g1.set_value('ivory coast', 'code', 'CIV')\n",
    "g1.set_value('kurdistan', 'code', 'KUR')\n",
    "g1.set_value('laos', 'code', 'LAO')\n",
    "g1.set_value('macau', 'code', 'MAC')\n",
    "g1.set_value('macedonia', 'code', 'MKD')\n",
    "g1.set_value('north korea', 'code', 'PRK')\n",
    "g1.set_value('palestine', 'code', 'PSE')\n",
    "g1.set_value('russia', 'code', 'RUS')\n",
    "g1.set_value('syria', 'code', 'SYR')\n",
    "g1.set_value('taiwan', 'code', 'TWN')\n",
    "g1.set_value('tanzania', 'code', 'TZA')\n",
    "g1.set_value('united states', 'code', 'USA')\n",
    "g1.set_value('venezuela', 'code', 'VEN')\n",
    "g1.set_value('vietnam', 'code', 'VNM')"
   ]
  },
  {
   "cell_type": "code",
   "execution_count": null,
   "metadata": {
    "collapsed": false
   },
   "outputs": [],
   "source": [
    "g1 = g1.set_index('code')"
   ]
  },
  {
   "cell_type": "code",
   "execution_count": null,
   "metadata": {
    "collapsed": true
   },
   "outputs": [],
   "source": [
    "g1.to_json('data.json')"
   ]
  },
  {
   "cell_type": "code",
   "execution_count": null,
   "metadata": {
    "collapsed": false
   },
   "outputs": [],
   "source": [
    "g1.shape"
   ]
  },
  {
   "cell_type": "code",
   "execution_count": null,
   "metadata": {
    "collapsed": false
   },
   "outputs": [],
   "source": [
    "grouped"
   ]
  },
  {
   "cell_type": "code",
   "execution_count": null,
   "metadata": {
    "collapsed": true
   },
   "outputs": [],
   "source": []
  }
 ],
 "metadata": {
  "anaconda-cloud": {},
  "kernelspec": {
   "display_name": "Python [conda root]",
   "language": "python",
   "name": "conda-root-py"
  },
  "language_info": {
   "codemirror_mode": {
    "name": "ipython",
    "version": 3
   },
   "file_extension": ".py",
   "mimetype": "text/x-python",
   "name": "python",
   "nbconvert_exporter": "python",
   "pygments_lexer": "ipython3",
   "version": "3.5.2"
  }
 },
 "nbformat": 4,
 "nbformat_minor": 2
}
